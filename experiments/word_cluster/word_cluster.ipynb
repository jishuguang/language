{
 "cells": [
  {
   "cell_type": "code",
   "execution_count": 5,
   "id": "strange-function",
   "metadata": {},
   "outputs": [],
   "source": [
    "import sys\n",
    "sys.path.append('../../')"
   ]
  },
  {
   "cell_type": "code",
   "execution_count": 74,
   "id": "auburn-floor",
   "metadata": {},
   "outputs": [],
   "source": [
    "from language.dataset.vocab import load_vocab\n",
    "from language.embedding.utils.serialization import load_embedding\n",
    "import torch\n",
    "from sklearn.cluster import AgglomerativeClustering\n",
    "from sklearn.metrics import silhouette_score\n",
    "import numpy as np "
   ]
  },
  {
   "cell_type": "code",
   "execution_count": 100,
   "id": "multiple-neighbor",
   "metadata": {},
   "outputs": [],
   "source": [
    "def cluster_score(embedding_path, n_clusters):\n",
    "    \"\"\"\n",
    "    Calculate word cluster score based on AgglomerativeClustering and SilhouetteScore.\n",
    "    :param embedding_path: path to embedding.\n",
    "    :param n_clusters: number of clusters.\n",
    "    :return: float, cluster score [-1, 1], 1 is the best.\n",
    "    \"\"\"\n",
    "    embedding = load_embedding(embedding_path).cpu().numpy()\n",
    "    cluster = AgglomerativeClustering(n_clusters=n_clusters, linkage='single').fit(embedding)\n",
    "    return silhouette_score(embedding, cluster.labels_)"
   ]
  },
  {
   "cell_type": "code",
   "execution_count": 97,
   "id": "parliamentary-circulation",
   "metadata": {},
   "outputs": [
    {
     "name": "stderr",
     "output_type": "stream",
     "text": [
      "[2021-07-15 23:35:19,144][INFO]Loading word embedding from D:\\data\\train\\glove\\wikitext2\\20210715012116\\word_embedding.pt .\n"
     ]
    },
    {
     "data": {
      "text/plain": [
       "0.24465644"
      ]
     },
     "execution_count": 97,
     "metadata": {},
     "output_type": "execute_result"
    }
   ],
   "source": [
    "glove_wikitext2_embedding = r'D:\\data\\train\\glove\\wikitext2\\20210715012116\\word_embedding.pt '\n",
    "cluster_score(glove_wikitext2_embedding, 100)"
   ]
  },
  {
   "cell_type": "code",
   "execution_count": 98,
   "id": "pleased-coupon",
   "metadata": {},
   "outputs": [
    {
     "name": "stderr",
     "output_type": "stream",
     "text": [
      "[2021-07-15 23:35:32,415][INFO]Loading word embedding from D:\\data\\train\\word2vector\\wikitext2\\20210712235514\\word_embedding.pt .\n"
     ]
    },
    {
     "data": {
      "text/plain": [
       "0.15189324"
      ]
     },
     "execution_count": 98,
     "metadata": {},
     "output_type": "execute_result"
    }
   ],
   "source": [
    "word2vector_wikitext2_embedding = r'D:\\data\\train\\word2vector\\wikitext2\\20210712235514\\word_embedding.pt '\n",
    "cluster_score(word2vector_wikitext2_embedding, 100)"
   ]
  },
  {
   "cell_type": "code",
   "execution_count": 99,
   "id": "unlimited-machinery",
   "metadata": {
    "scrolled": true
   },
   "outputs": [
    {
     "name": "stderr",
     "output_type": "stream",
     "text": [
      "[2021-07-15 23:35:45,581][INFO]Loading word embedding from D:\\data\\train\\word2vector\\imdb\\20210713000416\\word_embedding.pt .\n"
     ]
    },
    {
     "data": {
      "text/plain": [
       "0.19309889"
      ]
     },
     "execution_count": 99,
     "metadata": {},
     "output_type": "execute_result"
    }
   ],
   "source": [
    "word2vector_imdb_embedding = r'D:\\data\\train\\word2vector\\imdb\\20210713000416\\word_embedding.pt '\n",
    "cluster_score(word2vector_imdb_embedding, 100)"
   ]
  }
 ],
 "metadata": {
  "kernelspec": {
   "display_name": "Python 3",
   "language": "python",
   "name": "python3"
  },
  "language_info": {
   "codemirror_mode": {
    "name": "ipython",
    "version": 3
   },
   "file_extension": ".py",
   "mimetype": "text/x-python",
   "name": "python",
   "nbconvert_exporter": "python",
   "pygments_lexer": "ipython3",
   "version": "3.8.8"
  }
 },
 "nbformat": 4,
 "nbformat_minor": 5
}
